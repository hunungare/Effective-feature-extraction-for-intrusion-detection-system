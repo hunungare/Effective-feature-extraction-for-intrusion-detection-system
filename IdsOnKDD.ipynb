{
  "nbformat": 4,
  "nbformat_minor": 0,
  "metadata": {
    "kernelspec": {
      "display_name": "Python 3",
      "language": "python",
      "name": "python3"
    },
    "language_info": {
      "codemirror_mode": {
        "name": "ipython",
        "version": 3
      },
      "file_extension": ".py",
      "mimetype": "text/x-python",
      "name": "python",
      "nbconvert_exporter": "python",
      "pygments_lexer": "ipython3",
      "version": "3.8.5"
    },
    "colab": {
      "name": "IdsOnKDD.ipynb",
      "provenance": []
    }
  },
  "cells": [
    {
      "cell_type": "code",
      "metadata": {
        "id": "L8vwzaxY0bfh"
      },
      "source": [
        "from sklearn.naive_bayes import GaussianNB, BernoulliNB\n",
        "from sklearn.metrics import accuracy_score, classification_report\n",
        "from sklearn.neighbors import KNeighborsClassifier\n",
        "from sklearn.linear_model import LogisticRegression\n",
        "from sklearn.linear_model import SGDClassifier\n",
        "from sklearn.model_selection import train_test_split\n",
        "from sklearn.metrics import confusion_matrix\n",
        "from sklearn.ensemble import RandomForestClassifier\n",
        "from sklearn.metrics import accuracy_score, classification_report\n",
        "from sklearn.preprocessing import StandardScaler\n",
        "from sklearn.preprocessing import MinMaxScaler\n",
        "from sklearn.feature_selection import SelectKBest\n",
        "from sklearn.feature_selection import chi2\n",
        "from sklearn.decomposition import NMF;\n",
        "from sklearn.feature_extraction.text import TfidfTransformer\n",
        "from sklearn import preprocessing\n",
        "from sklearn import svm\n",
        "from sklearn import tree\n",
        "import pandas as pd\n",
        "import numpy as np\n",
        "import seaborn as sns"
      ],
      "execution_count": null,
      "outputs": []
    },
    {
      "cell_type": "code",
      "metadata": {
        "id": "6QRPBU2-7-QL"
      },
      "source": [
        "from google.colab import drive\n",
        "drive.mount('/content/drive')"
      ],
      "execution_count": null,
      "outputs": []
    },
    {
      "cell_type": "code",
      "metadata": {
        "id": "sR26mDPG7-Aw"
      },
      "source": [
        "cd drive/MyDrive/M.Tech/Projects/Effective\\ Feature\\ Extraction/ Dataset/"
      ],
      "execution_count": null,
      "outputs": []
    },
    {
      "cell_type": "code",
      "metadata": {
        "id": "9c7tegUW79oi"
      },
      "source": [
        ""
      ],
      "execution_count": null,
      "outputs": []
    },
    {
      "cell_type": "code",
      "metadata": {
        "id": "N1nXgp9I0bfl"
      },
      "source": [
        "col_names = np.array([\"protocol_type\",\"service\",\"flag\",\"src_bytes\",\n",
        "    \"dst_bytes\",\"land\",\"wrong_fragment\",\"urgent\",\"hot\",\"num_failed_logins\",\n",
        "    \"logged_in\",\"num_compromised\",\"root_shell\",\"su_attempted\",\"num_root\",\n",
        "    \"num_file_creations\",\"num_shells\",\"num_access_files\",\"num_outbound_cmds\",\n",
        "    \"is_host_login\",\"is_guest_login\",\"count\",\"srv_count\",\"serror_rate\",\n",
        "    \"srv_serror_rate\",\"rerror_rate\",\"srv_rerror_rate\",\"same_srv_rate\",\n",
        "    \"diff_srv_rate\",\"srv_diff_host_rate\",\"dst_host_count\",\"dst_host_srv_count\",\n",
        "    \"dst_host_same_srv_rate\",\"dst_host_diff_srv_rate\",\"dst_host_same_src_port_rate\",\n",
        "    \"dst_host_srv_diff_host_rate\",\"dst_host_serror_rate\",\"dst_host_srv_serror_rate\",\n",
        "    \"dst_host_rerror_rate\",\"dst_host_srv_rerror_rate\",\"labels\",\"port\"])\n",
        "\n",
        "data = pd.read_csv('NSL-KDD/KDDTrain+.txt', names=col_names)"
      ],
      "execution_count": null,
      "outputs": []
    },
    {
      "cell_type": "code",
      "metadata": {
        "id": "OLTQdbwV0bfm",
        "outputId": "64c94765-d2c6-48f4-ab7d-33cceaaa1349"
      },
      "source": [
        "data['labels'].value_counts()"
      ],
      "execution_count": null,
      "outputs": [
        {
          "output_type": "execute_result",
          "data": {
            "text/plain": [
              "normal             67343\n",
              "neptune            41214\n",
              "satan               3633\n",
              "ipsweep             3599\n",
              "portsweep           2931\n",
              "smurf               2646\n",
              "nmap                1493\n",
              "back                 956\n",
              "teardrop             892\n",
              "warezclient          890\n",
              "pod                  201\n",
              "guess_passwd          53\n",
              "buffer_overflow       30\n",
              "warezmaster           20\n",
              "land                  18\n",
              "imap                  11\n",
              "rootkit               10\n",
              "loadmodule             9\n",
              "ftp_write              8\n",
              "multihop               7\n",
              "phf                    4\n",
              "perl                   3\n",
              "spy                    2\n",
              "Name: labels, dtype: int64"
            ]
          },
          "metadata": {
            "tags": []
          },
          "execution_count": 3
        }
      ]
    },
    {
      "cell_type": "code",
      "metadata": {
        "id": "jgjU7y-q0bfo"
      },
      "source": [
        "#data.isna().sum()"
      ],
      "execution_count": null,
      "outputs": []
    },
    {
      "cell_type": "code",
      "metadata": {
        "id": "IuPkXnaD0bfo"
      },
      "source": [
        "label_encoder = preprocessing.LabelEncoder() \n",
        "  \n",
        "data['protocol_type']= label_encoder.fit_transform(data['protocol_type']) \n",
        "data['service']= label_encoder.fit_transform(data['service']) \n",
        "data['flag']= label_encoder.fit_transform(data['flag']) \n",
        "data['labels']= label_encoder.fit_transform(data['labels']) "
      ],
      "execution_count": null,
      "outputs": []
    },
    {
      "cell_type": "code",
      "metadata": {
        "id": "14cBrJ_R0bfp",
        "outputId": "543e3e17-c9cf-4429-803e-8470bd1e0d44"
      },
      "source": [
        "data.head()"
      ],
      "execution_count": null,
      "outputs": [
        {
          "output_type": "execute_result",
          "data": {
            "text/html": [
              "<div>\n",
              "<style scoped>\n",
              "    .dataframe tbody tr th:only-of-type {\n",
              "        vertical-align: middle;\n",
              "    }\n",
              "\n",
              "    .dataframe tbody tr th {\n",
              "        vertical-align: top;\n",
              "    }\n",
              "\n",
              "    .dataframe thead th {\n",
              "        text-align: right;\n",
              "    }\n",
              "</style>\n",
              "<table border=\"1\" class=\"dataframe\">\n",
              "  <thead>\n",
              "    <tr style=\"text-align: right;\">\n",
              "      <th></th>\n",
              "      <th>protocol_type</th>\n",
              "      <th>service</th>\n",
              "      <th>flag</th>\n",
              "      <th>src_bytes</th>\n",
              "      <th>dst_bytes</th>\n",
              "      <th>land</th>\n",
              "      <th>wrong_fragment</th>\n",
              "      <th>urgent</th>\n",
              "      <th>hot</th>\n",
              "      <th>num_failed_logins</th>\n",
              "      <th>...</th>\n",
              "      <th>dst_host_same_srv_rate</th>\n",
              "      <th>dst_host_diff_srv_rate</th>\n",
              "      <th>dst_host_same_src_port_rate</th>\n",
              "      <th>dst_host_srv_diff_host_rate</th>\n",
              "      <th>dst_host_serror_rate</th>\n",
              "      <th>dst_host_srv_serror_rate</th>\n",
              "      <th>dst_host_rerror_rate</th>\n",
              "      <th>dst_host_srv_rerror_rate</th>\n",
              "      <th>labels</th>\n",
              "      <th>port</th>\n",
              "    </tr>\n",
              "  </thead>\n",
              "  <tbody>\n",
              "    <tr>\n",
              "      <td>0</td>\n",
              "      <td>1</td>\n",
              "      <td>20</td>\n",
              "      <td>9</td>\n",
              "      <td>491</td>\n",
              "      <td>0</td>\n",
              "      <td>0</td>\n",
              "      <td>0</td>\n",
              "      <td>0</td>\n",
              "      <td>0</td>\n",
              "      <td>0</td>\n",
              "      <td>...</td>\n",
              "      <td>0.17</td>\n",
              "      <td>0.03</td>\n",
              "      <td>0.17</td>\n",
              "      <td>0.00</td>\n",
              "      <td>0.00</td>\n",
              "      <td>0.00</td>\n",
              "      <td>0.05</td>\n",
              "      <td>0.00</td>\n",
              "      <td>11</td>\n",
              "      <td>20</td>\n",
              "    </tr>\n",
              "    <tr>\n",
              "      <td>0</td>\n",
              "      <td>2</td>\n",
              "      <td>44</td>\n",
              "      <td>9</td>\n",
              "      <td>146</td>\n",
              "      <td>0</td>\n",
              "      <td>0</td>\n",
              "      <td>0</td>\n",
              "      <td>0</td>\n",
              "      <td>0</td>\n",
              "      <td>0</td>\n",
              "      <td>...</td>\n",
              "      <td>0.00</td>\n",
              "      <td>0.60</td>\n",
              "      <td>0.88</td>\n",
              "      <td>0.00</td>\n",
              "      <td>0.00</td>\n",
              "      <td>0.00</td>\n",
              "      <td>0.00</td>\n",
              "      <td>0.00</td>\n",
              "      <td>11</td>\n",
              "      <td>15</td>\n",
              "    </tr>\n",
              "    <tr>\n",
              "      <td>0</td>\n",
              "      <td>1</td>\n",
              "      <td>49</td>\n",
              "      <td>5</td>\n",
              "      <td>0</td>\n",
              "      <td>0</td>\n",
              "      <td>0</td>\n",
              "      <td>0</td>\n",
              "      <td>0</td>\n",
              "      <td>0</td>\n",
              "      <td>0</td>\n",
              "      <td>...</td>\n",
              "      <td>0.10</td>\n",
              "      <td>0.05</td>\n",
              "      <td>0.00</td>\n",
              "      <td>0.00</td>\n",
              "      <td>1.00</td>\n",
              "      <td>1.00</td>\n",
              "      <td>0.00</td>\n",
              "      <td>0.00</td>\n",
              "      <td>9</td>\n",
              "      <td>19</td>\n",
              "    </tr>\n",
              "    <tr>\n",
              "      <td>0</td>\n",
              "      <td>1</td>\n",
              "      <td>24</td>\n",
              "      <td>9</td>\n",
              "      <td>232</td>\n",
              "      <td>8153</td>\n",
              "      <td>0</td>\n",
              "      <td>0</td>\n",
              "      <td>0</td>\n",
              "      <td>0</td>\n",
              "      <td>0</td>\n",
              "      <td>...</td>\n",
              "      <td>1.00</td>\n",
              "      <td>0.00</td>\n",
              "      <td>0.03</td>\n",
              "      <td>0.04</td>\n",
              "      <td>0.03</td>\n",
              "      <td>0.01</td>\n",
              "      <td>0.00</td>\n",
              "      <td>0.01</td>\n",
              "      <td>11</td>\n",
              "      <td>21</td>\n",
              "    </tr>\n",
              "    <tr>\n",
              "      <td>0</td>\n",
              "      <td>1</td>\n",
              "      <td>24</td>\n",
              "      <td>9</td>\n",
              "      <td>199</td>\n",
              "      <td>420</td>\n",
              "      <td>0</td>\n",
              "      <td>0</td>\n",
              "      <td>0</td>\n",
              "      <td>0</td>\n",
              "      <td>0</td>\n",
              "      <td>...</td>\n",
              "      <td>1.00</td>\n",
              "      <td>0.00</td>\n",
              "      <td>0.00</td>\n",
              "      <td>0.00</td>\n",
              "      <td>0.00</td>\n",
              "      <td>0.00</td>\n",
              "      <td>0.00</td>\n",
              "      <td>0.00</td>\n",
              "      <td>11</td>\n",
              "      <td>21</td>\n",
              "    </tr>\n",
              "  </tbody>\n",
              "</table>\n",
              "<p>5 rows × 42 columns</p>\n",
              "</div>"
            ],
            "text/plain": [
              "   protocol_type  service  flag  src_bytes  dst_bytes  land  wrong_fragment  \\\n",
              "0              1       20     9        491          0     0               0   \n",
              "0              2       44     9        146          0     0               0   \n",
              "0              1       49     5          0          0     0               0   \n",
              "0              1       24     9        232       8153     0               0   \n",
              "0              1       24     9        199        420     0               0   \n",
              "\n",
              "   urgent  hot  num_failed_logins  ...  dst_host_same_srv_rate  \\\n",
              "0       0    0                  0  ...                    0.17   \n",
              "0       0    0                  0  ...                    0.00   \n",
              "0       0    0                  0  ...                    0.10   \n",
              "0       0    0                  0  ...                    1.00   \n",
              "0       0    0                  0  ...                    1.00   \n",
              "\n",
              "   dst_host_diff_srv_rate  dst_host_same_src_port_rate  \\\n",
              "0                    0.03                         0.17   \n",
              "0                    0.60                         0.88   \n",
              "0                    0.05                         0.00   \n",
              "0                    0.00                         0.03   \n",
              "0                    0.00                         0.00   \n",
              "\n",
              "   dst_host_srv_diff_host_rate  dst_host_serror_rate  \\\n",
              "0                         0.00                  0.00   \n",
              "0                         0.00                  0.00   \n",
              "0                         0.00                  1.00   \n",
              "0                         0.04                  0.03   \n",
              "0                         0.00                  0.00   \n",
              "\n",
              "   dst_host_srv_serror_rate  dst_host_rerror_rate  dst_host_srv_rerror_rate  \\\n",
              "0                      0.00                  0.05                      0.00   \n",
              "0                      0.00                  0.00                      0.00   \n",
              "0                      1.00                  0.00                      0.00   \n",
              "0                      0.01                  0.00                      0.01   \n",
              "0                      0.00                  0.00                      0.00   \n",
              "\n",
              "   labels  port  \n",
              "0      11    20  \n",
              "0      11    15  \n",
              "0       9    19  \n",
              "0      11    21  \n",
              "0      11    21  \n",
              "\n",
              "[5 rows x 42 columns]"
            ]
          },
          "metadata": {
            "tags": []
          },
          "execution_count": 6
        }
      ]
    },
    {
      "cell_type": "code",
      "metadata": {
        "id": "WgywGFVG0bfq",
        "outputId": "c98ad7ec-9010-48cd-b9a8-a6034efc0ffe"
      },
      "source": [
        "data.describe()"
      ],
      "execution_count": null,
      "outputs": [
        {
          "output_type": "execute_result",
          "data": {
            "text/html": [
              "<div>\n",
              "<style scoped>\n",
              "    .dataframe tbody tr th:only-of-type {\n",
              "        vertical-align: middle;\n",
              "    }\n",
              "\n",
              "    .dataframe tbody tr th {\n",
              "        vertical-align: top;\n",
              "    }\n",
              "\n",
              "    .dataframe thead th {\n",
              "        text-align: right;\n",
              "    }\n",
              "</style>\n",
              "<table border=\"1\" class=\"dataframe\">\n",
              "  <thead>\n",
              "    <tr style=\"text-align: right;\">\n",
              "      <th></th>\n",
              "      <th>protocol_type</th>\n",
              "      <th>service</th>\n",
              "      <th>flag</th>\n",
              "      <th>src_bytes</th>\n",
              "      <th>dst_bytes</th>\n",
              "      <th>land</th>\n",
              "      <th>wrong_fragment</th>\n",
              "      <th>urgent</th>\n",
              "      <th>hot</th>\n",
              "      <th>num_failed_logins</th>\n",
              "      <th>...</th>\n",
              "      <th>dst_host_same_srv_rate</th>\n",
              "      <th>dst_host_diff_srv_rate</th>\n",
              "      <th>dst_host_same_src_port_rate</th>\n",
              "      <th>dst_host_srv_diff_host_rate</th>\n",
              "      <th>dst_host_serror_rate</th>\n",
              "      <th>dst_host_srv_serror_rate</th>\n",
              "      <th>dst_host_rerror_rate</th>\n",
              "      <th>dst_host_srv_rerror_rate</th>\n",
              "      <th>labels</th>\n",
              "      <th>port</th>\n",
              "    </tr>\n",
              "  </thead>\n",
              "  <tbody>\n",
              "    <tr>\n",
              "      <td>count</td>\n",
              "      <td>125973.000000</td>\n",
              "      <td>125973.000000</td>\n",
              "      <td>125973.000000</td>\n",
              "      <td>1.259730e+05</td>\n",
              "      <td>1.259730e+05</td>\n",
              "      <td>125973.000000</td>\n",
              "      <td>125973.000000</td>\n",
              "      <td>125973.000000</td>\n",
              "      <td>125973.000000</td>\n",
              "      <td>125973.000000</td>\n",
              "      <td>...</td>\n",
              "      <td>125973.000000</td>\n",
              "      <td>125973.000000</td>\n",
              "      <td>125973.000000</td>\n",
              "      <td>125973.000000</td>\n",
              "      <td>125973.000000</td>\n",
              "      <td>125973.000000</td>\n",
              "      <td>125973.000000</td>\n",
              "      <td>125973.000000</td>\n",
              "      <td>125973.000000</td>\n",
              "      <td>125973.000000</td>\n",
              "    </tr>\n",
              "    <tr>\n",
              "      <td>mean</td>\n",
              "      <td>1.053202</td>\n",
              "      <td>31.226469</td>\n",
              "      <td>6.979996</td>\n",
              "      <td>4.556674e+04</td>\n",
              "      <td>1.977911e+04</td>\n",
              "      <td>0.000198</td>\n",
              "      <td>0.022687</td>\n",
              "      <td>0.000111</td>\n",
              "      <td>0.204409</td>\n",
              "      <td>0.001222</td>\n",
              "      <td>...</td>\n",
              "      <td>0.521242</td>\n",
              "      <td>0.082951</td>\n",
              "      <td>0.148379</td>\n",
              "      <td>0.032542</td>\n",
              "      <td>0.284452</td>\n",
              "      <td>0.278485</td>\n",
              "      <td>0.118832</td>\n",
              "      <td>0.120240</td>\n",
              "      <td>10.625483</td>\n",
              "      <td>19.504060</td>\n",
              "    </tr>\n",
              "    <tr>\n",
              "      <td>std</td>\n",
              "      <td>0.426620</td>\n",
              "      <td>16.346470</td>\n",
              "      <td>2.689365</td>\n",
              "      <td>5.870331e+06</td>\n",
              "      <td>4.021269e+06</td>\n",
              "      <td>0.014086</td>\n",
              "      <td>0.253530</td>\n",
              "      <td>0.014366</td>\n",
              "      <td>2.149968</td>\n",
              "      <td>0.045239</td>\n",
              "      <td>...</td>\n",
              "      <td>0.448949</td>\n",
              "      <td>0.188922</td>\n",
              "      <td>0.308997</td>\n",
              "      <td>0.112564</td>\n",
              "      <td>0.444784</td>\n",
              "      <td>0.445669</td>\n",
              "      <td>0.306557</td>\n",
              "      <td>0.319459</td>\n",
              "      <td>2.636084</td>\n",
              "      <td>2.291503</td>\n",
              "    </tr>\n",
              "    <tr>\n",
              "      <td>min</td>\n",
              "      <td>0.000000</td>\n",
              "      <td>0.000000</td>\n",
              "      <td>0.000000</td>\n",
              "      <td>0.000000e+00</td>\n",
              "      <td>0.000000e+00</td>\n",
              "      <td>0.000000</td>\n",
              "      <td>0.000000</td>\n",
              "      <td>0.000000</td>\n",
              "      <td>0.000000</td>\n",
              "      <td>0.000000</td>\n",
              "      <td>...</td>\n",
              "      <td>0.000000</td>\n",
              "      <td>0.000000</td>\n",
              "      <td>0.000000</td>\n",
              "      <td>0.000000</td>\n",
              "      <td>0.000000</td>\n",
              "      <td>0.000000</td>\n",
              "      <td>0.000000</td>\n",
              "      <td>0.000000</td>\n",
              "      <td>0.000000</td>\n",
              "      <td>0.000000</td>\n",
              "    </tr>\n",
              "    <tr>\n",
              "      <td>25%</td>\n",
              "      <td>1.000000</td>\n",
              "      <td>20.000000</td>\n",
              "      <td>5.000000</td>\n",
              "      <td>0.000000e+00</td>\n",
              "      <td>0.000000e+00</td>\n",
              "      <td>0.000000</td>\n",
              "      <td>0.000000</td>\n",
              "      <td>0.000000</td>\n",
              "      <td>0.000000</td>\n",
              "      <td>0.000000</td>\n",
              "      <td>...</td>\n",
              "      <td>0.050000</td>\n",
              "      <td>0.000000</td>\n",
              "      <td>0.000000</td>\n",
              "      <td>0.000000</td>\n",
              "      <td>0.000000</td>\n",
              "      <td>0.000000</td>\n",
              "      <td>0.000000</td>\n",
              "      <td>0.000000</td>\n",
              "      <td>9.000000</td>\n",
              "      <td>18.000000</td>\n",
              "    </tr>\n",
              "    <tr>\n",
              "      <td>50%</td>\n",
              "      <td>1.000000</td>\n",
              "      <td>24.000000</td>\n",
              "      <td>9.000000</td>\n",
              "      <td>4.400000e+01</td>\n",
              "      <td>0.000000e+00</td>\n",
              "      <td>0.000000</td>\n",
              "      <td>0.000000</td>\n",
              "      <td>0.000000</td>\n",
              "      <td>0.000000</td>\n",
              "      <td>0.000000</td>\n",
              "      <td>...</td>\n",
              "      <td>0.510000</td>\n",
              "      <td>0.020000</td>\n",
              "      <td>0.000000</td>\n",
              "      <td>0.000000</td>\n",
              "      <td>0.000000</td>\n",
              "      <td>0.000000</td>\n",
              "      <td>0.000000</td>\n",
              "      <td>0.000000</td>\n",
              "      <td>11.000000</td>\n",
              "      <td>20.000000</td>\n",
              "    </tr>\n",
              "    <tr>\n",
              "      <td>75%</td>\n",
              "      <td>1.000000</td>\n",
              "      <td>49.000000</td>\n",
              "      <td>9.000000</td>\n",
              "      <td>2.760000e+02</td>\n",
              "      <td>5.160000e+02</td>\n",
              "      <td>0.000000</td>\n",
              "      <td>0.000000</td>\n",
              "      <td>0.000000</td>\n",
              "      <td>0.000000</td>\n",
              "      <td>0.000000</td>\n",
              "      <td>...</td>\n",
              "      <td>1.000000</td>\n",
              "      <td>0.070000</td>\n",
              "      <td>0.060000</td>\n",
              "      <td>0.020000</td>\n",
              "      <td>1.000000</td>\n",
              "      <td>1.000000</td>\n",
              "      <td>0.000000</td>\n",
              "      <td>0.000000</td>\n",
              "      <td>11.000000</td>\n",
              "      <td>21.000000</td>\n",
              "    </tr>\n",
              "    <tr>\n",
              "      <td>max</td>\n",
              "      <td>2.000000</td>\n",
              "      <td>69.000000</td>\n",
              "      <td>10.000000</td>\n",
              "      <td>1.379964e+09</td>\n",
              "      <td>1.309937e+09</td>\n",
              "      <td>1.000000</td>\n",
              "      <td>3.000000</td>\n",
              "      <td>3.000000</td>\n",
              "      <td>77.000000</td>\n",
              "      <td>5.000000</td>\n",
              "      <td>...</td>\n",
              "      <td>1.000000</td>\n",
              "      <td>1.000000</td>\n",
              "      <td>1.000000</td>\n",
              "      <td>1.000000</td>\n",
              "      <td>1.000000</td>\n",
              "      <td>1.000000</td>\n",
              "      <td>1.000000</td>\n",
              "      <td>1.000000</td>\n",
              "      <td>22.000000</td>\n",
              "      <td>21.000000</td>\n",
              "    </tr>\n",
              "  </tbody>\n",
              "</table>\n",
              "<p>8 rows × 42 columns</p>\n",
              "</div>"
            ],
            "text/plain": [
              "       protocol_type        service           flag     src_bytes  \\\n",
              "count  125973.000000  125973.000000  125973.000000  1.259730e+05   \n",
              "mean        1.053202      31.226469       6.979996  4.556674e+04   \n",
              "std         0.426620      16.346470       2.689365  5.870331e+06   \n",
              "min         0.000000       0.000000       0.000000  0.000000e+00   \n",
              "25%         1.000000      20.000000       5.000000  0.000000e+00   \n",
              "50%         1.000000      24.000000       9.000000  4.400000e+01   \n",
              "75%         1.000000      49.000000       9.000000  2.760000e+02   \n",
              "max         2.000000      69.000000      10.000000  1.379964e+09   \n",
              "\n",
              "          dst_bytes           land  wrong_fragment         urgent  \\\n",
              "count  1.259730e+05  125973.000000   125973.000000  125973.000000   \n",
              "mean   1.977911e+04       0.000198        0.022687       0.000111   \n",
              "std    4.021269e+06       0.014086        0.253530       0.014366   \n",
              "min    0.000000e+00       0.000000        0.000000       0.000000   \n",
              "25%    0.000000e+00       0.000000        0.000000       0.000000   \n",
              "50%    0.000000e+00       0.000000        0.000000       0.000000   \n",
              "75%    5.160000e+02       0.000000        0.000000       0.000000   \n",
              "max    1.309937e+09       1.000000        3.000000       3.000000   \n",
              "\n",
              "                 hot  num_failed_logins  ...  dst_host_same_srv_rate  \\\n",
              "count  125973.000000      125973.000000  ...           125973.000000   \n",
              "mean        0.204409           0.001222  ...                0.521242   \n",
              "std         2.149968           0.045239  ...                0.448949   \n",
              "min         0.000000           0.000000  ...                0.000000   \n",
              "25%         0.000000           0.000000  ...                0.050000   \n",
              "50%         0.000000           0.000000  ...                0.510000   \n",
              "75%         0.000000           0.000000  ...                1.000000   \n",
              "max        77.000000           5.000000  ...                1.000000   \n",
              "\n",
              "       dst_host_diff_srv_rate  dst_host_same_src_port_rate  \\\n",
              "count           125973.000000                125973.000000   \n",
              "mean                 0.082951                     0.148379   \n",
              "std                  0.188922                     0.308997   \n",
              "min                  0.000000                     0.000000   \n",
              "25%                  0.000000                     0.000000   \n",
              "50%                  0.020000                     0.000000   \n",
              "75%                  0.070000                     0.060000   \n",
              "max                  1.000000                     1.000000   \n",
              "\n",
              "       dst_host_srv_diff_host_rate  dst_host_serror_rate  \\\n",
              "count                125973.000000         125973.000000   \n",
              "mean                      0.032542              0.284452   \n",
              "std                       0.112564              0.444784   \n",
              "min                       0.000000              0.000000   \n",
              "25%                       0.000000              0.000000   \n",
              "50%                       0.000000              0.000000   \n",
              "75%                       0.020000              1.000000   \n",
              "max                       1.000000              1.000000   \n",
              "\n",
              "       dst_host_srv_serror_rate  dst_host_rerror_rate  \\\n",
              "count             125973.000000         125973.000000   \n",
              "mean                   0.278485              0.118832   \n",
              "std                    0.445669              0.306557   \n",
              "min                    0.000000              0.000000   \n",
              "25%                    0.000000              0.000000   \n",
              "50%                    0.000000              0.000000   \n",
              "75%                    1.000000              0.000000   \n",
              "max                    1.000000              1.000000   \n",
              "\n",
              "       dst_host_srv_rerror_rate         labels           port  \n",
              "count             125973.000000  125973.000000  125973.000000  \n",
              "mean                   0.120240      10.625483      19.504060  \n",
              "std                    0.319459       2.636084       2.291503  \n",
              "min                    0.000000       0.000000       0.000000  \n",
              "25%                    0.000000       9.000000      18.000000  \n",
              "50%                    0.000000      11.000000      20.000000  \n",
              "75%                    0.000000      11.000000      21.000000  \n",
              "max                    1.000000      22.000000      21.000000  \n",
              "\n",
              "[8 rows x 42 columns]"
            ]
          },
          "metadata": {
            "tags": []
          },
          "execution_count": 7
        }
      ]
    },
    {
      "cell_type": "code",
      "metadata": {
        "id": "nbFkQyQS0bfr",
        "outputId": "bac5a459-1a2b-471a-acec-17568a3313eb"
      },
      "source": [
        "data = data.drop(columns=['land'], axis=1).copy()\n",
        "data = data.drop(columns=['urgent'], axis=1).copy()\n",
        "data.shape"
      ],
      "execution_count": null,
      "outputs": [
        {
          "output_type": "execute_result",
          "data": {
            "text/plain": [
              "(125973, 40)"
            ]
          },
          "metadata": {
            "tags": []
          },
          "execution_count": 8
        }
      ]
    },
    {
      "cell_type": "code",
      "metadata": {
        "id": "NTglGkQ90bfr"
      },
      "source": [
        "y=data['labels']\n",
        "X = data.drop(['labels'], axis = 1)\n",
        "X = pd.get_dummies(X, prefix_sep='_')"
      ],
      "execution_count": null,
      "outputs": []
    },
    {
      "cell_type": "code",
      "metadata": {
        "id": "g2l9_QQ30bfs",
        "outputId": "7b581ad5-024a-4236-d999-7c2979a3fcd5"
      },
      "source": [
        "transformer = TfidfTransformer(smooth_idf=False)\n",
        "x_tfidf = transformer.fit_transform(X)\n",
        "#tfidf.toarray()"
      ],
      "execution_count": null,
      "outputs": [
        {
          "output_type": "stream",
          "text": [
            "/root/anaconda3/lib/python3.7/site-packages/sklearn/feature_extraction/text.py:1466: RuntimeWarning: divide by zero encountered in true_divide\n",
            "  idf = np.log(n_samples / df) + 1\n"
          ],
          "name": "stderr"
        }
      ]
    },
    {
      "cell_type": "code",
      "metadata": {
        "id": "RB61llAg0bfs",
        "outputId": "fa78c289-f6d2-47d6-8d68-16b1f2d8a472"
      },
      "source": [
        "X.shape"
      ],
      "execution_count": null,
      "outputs": [
        {
          "output_type": "execute_result",
          "data": {
            "text/plain": [
              "(125973, 39)"
            ]
          },
          "metadata": {
            "tags": []
          },
          "execution_count": 10
        }
      ]
    },
    {
      "cell_type": "code",
      "metadata": {
        "id": "3h5jQAci0bft"
      },
      "source": [
        "#obtain a NMF model.\n",
        "model = NMF(n_components=30, init='random');\n",
        "NMfc = model.fit(X,y).transform(X)"
      ],
      "execution_count": null,
      "outputs": []
    },
    {
      "cell_type": "code",
      "metadata": {
        "id": "otwP09XR0bft"
      },
      "source": [
        "model = NMF(n_components=36, init='nndsvd');\n",
        "NMfc = model.fit(X,y).transform(X)\n",
        "\n",
        "model1 = NMF(n_components=33, init='nndsvd');\n",
        "NMfc1 = model1.fit(NMfc,y).transform(NMfc)\n",
        "\n",
        "model2 = NMF(n_components=30, init='nndsvd');\n",
        "NMfc2 = model2.fit(NMfc1,y).transform(NMfc1)\n",
        "\n",
        "model3 = NMF(n_components=27, init='nndsvd');\n",
        "NMfc3 = model3.fit(NMfc2,y).transform(NMfc2)"
      ],
      "execution_count": null,
      "outputs": []
    },
    {
      "cell_type": "code",
      "metadata": {
        "id": "sQ2r0ncZ0bft",
        "outputId": "73d7d3b9-c144-4dbd-d106-fcebe4f43e46"
      },
      "source": [
        "print(NMfc3.shape)"
      ],
      "execution_count": null,
      "outputs": [
        {
          "output_type": "stream",
          "text": [
            "(125973, 27)\n"
          ],
          "name": "stdout"
        }
      ]
    },
    {
      "cell_type": "code",
      "metadata": {
        "id": "Ez9F0VQl0bfu",
        "outputId": "8d2e1d93-1095-4b09-beb4-40d07654eee7"
      },
      "source": [
        "#Univariate features Selection \n",
        "\n",
        "#apply SelectKBest class to extract top 25 best features\n",
        "bestfeatures = SelectKBest(score_func=chi2, k=20)\n",
        "fit = bestfeatures.fit(NMfc3,y)\n",
        "features = fit.transform(NMfc3)\n",
        "dfscores = pd.DataFrame(fit.scores_)\n",
        "dfcolumns = pd.DataFrame(X.columns)\n",
        "#concat two dataframes for better visualization \n",
        "featureScores = pd.concat([dfcolumns,dfscores],axis=1)\n",
        "featureScores.columns = ['Features','Score']  #naming the dataframe columns\n",
        "X_uni=featureScores.nlargest(25,'Score')\n",
        "print(featureScores.nlargest(25,'Score'))  #print 25 best features"
      ],
      "execution_count": null,
      "outputs": [
        {
          "output_type": "stream",
          "text": [
            "              Features        Score\n",
            "3            src_bytes  1741.455979\n",
            "8            logged_in   699.093225\n",
            "5       wrong_fragment   512.514264\n",
            "0        protocol_type   271.988770\n",
            "1              service   235.546002\n",
            "2                 flag   221.887395\n",
            "9      num_compromised   168.066736\n",
            "12            num_root   145.613339\n",
            "13  num_file_creations   139.581554\n",
            "22     srv_serror_rate   132.796942\n",
            "18      is_guest_login   122.886396\n",
            "15    num_access_files   118.005650\n",
            "7    num_failed_logins   116.568178\n",
            "16   num_outbound_cmds   103.654526\n",
            "23         rerror_rate    91.297888\n",
            "6                  hot    70.416091\n",
            "19               count    52.252607\n",
            "21         serror_rate    47.983475\n",
            "25       same_srv_rate    44.990403\n",
            "10          root_shell    43.343551\n",
            "17       is_host_login    28.065740\n",
            "11        su_attempted    17.932926\n",
            "14          num_shells    15.754193\n",
            "20           srv_count    12.415311\n",
            "26       diff_srv_rate     9.208504\n"
          ],
          "name": "stdout"
        }
      ]
    },
    {
      "cell_type": "code",
      "metadata": {
        "id": "9juRz-Jv0bfv",
        "outputId": "257fce91-058e-4766-9730-2962f8a8e8e1"
      },
      "source": [
        "features.shape"
      ],
      "execution_count": null,
      "outputs": [
        {
          "output_type": "execute_result",
          "data": {
            "text/plain": [
              "(125973, 20)"
            ]
          },
          "metadata": {
            "tags": []
          },
          "execution_count": 26
        }
      ]
    },
    {
      "cell_type": "code",
      "metadata": {
        "id": "tyZN_-zT0bfv"
      },
      "source": [
        "# normalize the data attributes\n",
        "normalized_X = preprocessing.normalize(features)\n",
        "normalized_Xnmf = preprocessing.normalize(NMfc)"
      ],
      "execution_count": null,
      "outputs": []
    },
    {
      "cell_type": "code",
      "metadata": {
        "id": "w8pnpA5U0bfv"
      },
      "source": [
        "y = np.array(y)\n",
        "X_train, X_test, y_train, y_test = train_test_split(normalized_X,y,test_size=0.20, random_state=42)\n",
        "\n",
        "scaler = MinMaxScaler()\n",
        "X_train = scaler.fit_transform(X_train)\n",
        "X_test = scaler.transform(X_test)"
      ],
      "execution_count": null,
      "outputs": []
    },
    {
      "cell_type": "code",
      "metadata": {
        "id": "jQceClaV0bfw",
        "outputId": "e7e2f8b0-5a6d-4424-a663-313d3146bbdb"
      },
      "source": [
        "#Gaussian Naive Baye Model\n",
        "BNB_Classifier = BernoulliNB()\n",
        "BNB_Classifier.fit(X_train, y_train)\n",
        "\n",
        "BNB_pred=BNB_Classifier.predict(X_test)\n",
        "accuracy = accuracy_score(BNB_pred,y_test)\n",
        "print(BNB_Classifier)\n",
        "print(classification_report(BNB_pred, y_test, labels=None))\n",
        "print(\"BernoulliNB_accuracy = \",accuracy*100)"
      ],
      "execution_count": null,
      "outputs": [
        {
          "output_type": "stream",
          "text": [
            "BernoulliNB(alpha=1.0, binarize=0.0, class_prior=None, fit_prior=True)\n",
            "              precision    recall  f1-score   support\n",
            "\n",
            "           0       0.31      0.56      0.40       101\n",
            "           1       0.33      0.43      0.38         7\n",
            "           2       0.00      0.00      0.00         6\n",
            "           3       0.27      0.04      0.07        77\n",
            "           4       1.00      0.20      0.33         5\n",
            "           5       0.74      0.60      0.66       908\n",
            "           6       0.00      0.00      0.00         2\n",
            "           9       0.94      0.92      0.93      8483\n",
            "          10       0.43      0.45      0.44       302\n",
            "          11       0.93      0.95      0.94     13207\n",
            "          12       0.00      0.00      0.00         0\n",
            "          13       0.00      0.00      0.00         0\n",
            "          14       0.02      0.09      0.04        11\n",
            "          15       0.80      0.77      0.78       600\n",
            "          16       1.00      0.07      0.13        14\n",
            "          17       0.53      0.54      0.53       729\n",
            "          18       0.56      0.84      0.67       360\n",
            "          19       0.00      0.00      0.00         0\n",
            "          20       0.64      0.88      0.74       136\n",
            "          21       0.49      0.40      0.44       247\n",
            "          22       0.00      0.00      0.00         0\n",
            "\n",
            "    accuracy                           0.89     25195\n",
            "   macro avg       0.43      0.37      0.36     25195\n",
            "weighted avg       0.89      0.89      0.89     25195\n",
            "\n",
            "BernoulliNB_accuracy =  88.80730303631672\n"
          ],
          "name": "stdout"
        },
        {
          "output_type": "stream",
          "text": [
            "/root/anaconda3/lib/python3.7/site-packages/sklearn/metrics/_classification.py:1272: UndefinedMetricWarning: Precision and F-score are ill-defined and being set to 0.0 in labels with no predicted samples. Use `zero_division` parameter to control this behavior.\n",
            "  _warn_prf(average, modifier, msg_start, len(result))\n",
            "/root/anaconda3/lib/python3.7/site-packages/sklearn/metrics/_classification.py:1272: UndefinedMetricWarning: Recall and F-score are ill-defined and being set to 0.0 in labels with no true samples. Use `zero_division` parameter to control this behavior.\n",
            "  _warn_prf(average, modifier, msg_start, len(result))\n"
          ],
          "name": "stderr"
        }
      ]
    },
    {
      "cell_type": "code",
      "metadata": {
        "id": "NNa6AXTK0bfw",
        "outputId": "a4cfdfa3-14e0-420e-fb5f-05eb92583245"
      },
      "source": [
        "# LogisticRegression Model\n",
        "LGR_Classifier = LogisticRegression(n_jobs=-1, random_state=0)\n",
        "LGR_Classifier.fit(X_train, y_train);\n",
        "\n",
        "LGR_pred=LGR_Classifier.predict(X_test)\n",
        "accuracy = accuracy_score(LGR_pred,y_test)\n",
        "print(LGR_Classifier)\n",
        "print(classification_report(LGR_pred, y_test, labels=None))\n",
        "print(\"LogisticRegression_accuracy = \",accuracy*100)"
      ],
      "execution_count": null,
      "outputs": [
        {
          "output_type": "stream",
          "text": [
            "LogisticRegression(C=1.0, class_weight=None, dual=False, fit_intercept=True,\n",
            "                   intercept_scaling=1, l1_ratio=None, max_iter=100,\n",
            "                   multi_class='auto', n_jobs=-1, penalty='l2', random_state=0,\n",
            "                   solver='lbfgs', tol=0.0001, verbose=0, warm_start=False)\n",
            "              precision    recall  f1-score   support\n",
            "\n",
            "           0       0.91      0.92      0.92       182\n",
            "           1       0.00      0.00      0.00         0\n",
            "           3       0.00      0.00      0.00         0\n",
            "           4       0.00      0.00      0.00         0\n",
            "           5       0.74      0.66      0.70       818\n",
            "           6       0.00      0.00      0.00         0\n",
            "           9       0.98      0.97      0.97      8321\n",
            "          10       0.01      0.33      0.02         9\n",
            "          11       0.99      0.93      0.96     14228\n",
            "          12       0.00      0.00      0.00         0\n",
            "          13       0.00      0.00      0.00         0\n",
            "          14       0.00      0.00      0.00         0\n",
            "          15       0.80      0.83      0.82       550\n",
            "          16       0.00      0.00      0.00         0\n",
            "          17       0.48      0.79      0.59       447\n",
            "          18       0.65      0.91      0.76       384\n",
            "          19       0.00      0.00      0.00         0\n",
            "          20       0.77      0.79      0.78       182\n",
            "          21       0.12      0.32      0.17        74\n",
            "          22       0.00      0.00      0.00         0\n",
            "\n",
            "    accuracy                           0.93     25195\n",
            "   macro avg       0.32      0.37      0.33     25195\n",
            "weighted avg       0.95      0.93      0.94     25195\n",
            "\n",
            "LogisticRegression_accuracy =  92.57789243897598\n"
          ],
          "name": "stdout"
        },
        {
          "output_type": "stream",
          "text": [
            "/root/anaconda3/lib/python3.7/site-packages/sklearn/metrics/_classification.py:1272: UndefinedMetricWarning: Recall and F-score are ill-defined and being set to 0.0 in labels with no true samples. Use `zero_division` parameter to control this behavior.\n",
            "  _warn_prf(average, modifier, msg_start, len(result))\n"
          ],
          "name": "stderr"
        }
      ]
    },
    {
      "cell_type": "code",
      "metadata": {
        "id": "PdWV7vpx0bfw",
        "outputId": "51937236-5ec9-46fb-8ea4-d1a4206e15cf"
      },
      "source": [
        "#SVM model\n",
        "from sklearn import svm\n",
        "svm = svm.SVC()\n",
        "svm = svm.fit(X_train,y_train)\n",
        "\n",
        "pred_svm = svm.predict(X_test)\n",
        "accuracy = accuracy_score(pred_svm, y_test)\n",
        "print(svm)\n",
        "print(classification_report(pred_svm, y_test, labels=None))\n",
        "print(\"SVM_accuracy = \",accuracy*100)"
      ],
      "execution_count": null,
      "outputs": [
        {
          "output_type": "stream",
          "text": [
            "SVC(C=1.0, break_ties=False, cache_size=200, class_weight=None, coef0=0.0,\n",
            "    decision_function_shape='ovr', degree=3, gamma='scale', kernel='rbf',\n",
            "    max_iter=-1, probability=False, random_state=None, shrinking=True,\n",
            "    tol=0.001, verbose=False)\n",
            "              precision    recall  f1-score   support\n",
            "\n",
            "           0       0.98      0.96      0.97       189\n",
            "           1       0.22      1.00      0.36         2\n",
            "           3       0.45      0.83      0.59         6\n",
            "           4       1.00      1.00      1.00         1\n",
            "           5       0.85      0.71      0.77       884\n",
            "           6       0.00      0.00      0.00         0\n",
            "           9       0.99      0.98      0.99      8339\n",
            "          10       0.31      0.88      0.46       111\n",
            "          11       0.99      0.96      0.98     13786\n",
            "          12       0.00      0.00      0.00         0\n",
            "          13       0.00      0.00      0.00         0\n",
            "          14       0.00      0.00      0.00         0\n",
            "          15       0.80      0.88      0.84       521\n",
            "          16       0.00      0.00      0.00         0\n",
            "          17       0.73      0.87      0.80       619\n",
            "          18       0.81      1.00      0.90       435\n",
            "          19       0.00      0.00      0.00         0\n",
            "          20       0.88      0.89      0.89       187\n",
            "          21       0.54      1.00      0.70       109\n",
            "          22       0.75      1.00      0.86         6\n",
            "\n",
            "    accuracy                           0.96     25195\n",
            "   macro avg       0.52      0.65      0.55     25195\n",
            "weighted avg       0.97      0.96      0.96     25195\n",
            "\n",
            "SVM_accuracy =  95.6181782099623\n"
          ],
          "name": "stdout"
        },
        {
          "output_type": "stream",
          "text": [
            "/root/anaconda3/lib/python3.7/site-packages/sklearn/metrics/_classification.py:1272: UndefinedMetricWarning: Recall and F-score are ill-defined and being set to 0.0 in labels with no true samples. Use `zero_division` parameter to control this behavior.\n",
            "  _warn_prf(average, modifier, msg_start, len(result))\n"
          ],
          "name": "stderr"
        }
      ]
    },
    {
      "cell_type": "code",
      "metadata": {
        "id": "-9bGvq0I0bfx",
        "outputId": "cb4b2ce1-bc89-40d6-bbe0-a13824d6f997"
      },
      "source": [
        "# Train KNeighborsClassifier Model\n",
        "KNN_Classifier = KNeighborsClassifier(n_jobs=-1)\n",
        "KNN_Classifier.fit(X_train, y_train); \n",
        "\n",
        "KNN_pred=KNN_Classifier.predict(X_test)\n",
        "accuracy = accuracy_score(KNN_pred,y_test)\n",
        "print(KNN_Classifier)\n",
        "print(classification_report(KNN_pred, y_test, labels=None))\n",
        "print(\"KNN_accuracy = \",accuracy*100)"
      ],
      "execution_count": null,
      "outputs": [
        {
          "output_type": "stream",
          "text": [
            "KNeighborsClassifier(algorithm='auto', leaf_size=30, metric='minkowski',\n",
            "                     metric_params=None, n_jobs=-1, n_neighbors=5, p=2,\n",
            "                     weights='uniform')\n",
            "              precision    recall  f1-score   support\n",
            "\n",
            "           0       0.97      0.97      0.97       185\n",
            "           1       0.22      1.00      0.36         2\n",
            "           3       0.73      0.73      0.73        11\n",
            "           4       1.00      1.00      1.00         1\n",
            "           5       0.93      0.80      0.86       849\n",
            "           6       0.33      0.20      0.25         5\n",
            "           9       0.99      0.99      0.99      8231\n",
            "          10       0.60      0.79      0.68       239\n",
            "          11       0.99      0.99      0.99     13427\n",
            "          12       0.00      0.00      0.00         0\n",
            "          13       1.00      1.00      1.00         1\n",
            "          14       0.67      0.91      0.77        32\n",
            "          15       0.91      0.94      0.93       553\n",
            "          16       0.00      0.00      0.00         2\n",
            "          17       0.93      0.92      0.93       742\n",
            "          18       0.98      1.00      0.99       525\n",
            "          19       0.00      0.00      0.00         0\n",
            "          20       0.90      0.93      0.92       183\n",
            "          21       0.94      0.94      0.94       201\n",
            "          22       0.75      1.00      0.86         6\n",
            "\n",
            "    accuracy                           0.98     25195\n",
            "   macro avg       0.69      0.76      0.71     25195\n",
            "weighted avg       0.98      0.98      0.98     25195\n",
            "\n",
            "KNN_accuracy =  97.96388172256401\n"
          ],
          "name": "stdout"
        },
        {
          "output_type": "stream",
          "text": [
            "/root/anaconda3/lib/python3.7/site-packages/sklearn/metrics/_classification.py:1272: UndefinedMetricWarning: Recall and F-score are ill-defined and being set to 0.0 in labels with no true samples. Use `zero_division` parameter to control this behavior.\n",
            "  _warn_prf(average, modifier, msg_start, len(result))\n"
          ],
          "name": "stderr"
        }
      ]
    },
    {
      "cell_type": "code",
      "metadata": {
        "id": "TvUqmeK10bfx",
        "outputId": "a704d1a7-85ae-44fb-b9b6-1f4686d3a224"
      },
      "source": [
        "#DecisionTreeClassifier\n",
        "clf = tree.DecisionTreeClassifier(criterion='entropy', random_state=0)\n",
        "clf.fit(X_train, y_train)\n",
        "\n",
        "pred = clf.predict(X_test)\n",
        "# accuracy\n",
        "accuracy = accuracy_score(pred, y_test)\n",
        "print(clf)\n",
        "print(classification_report(pred, y_test, labels=None))\n",
        "print(\"DecisionTree_accuracy = \",accuracy*100)"
      ],
      "execution_count": null,
      "outputs": [
        {
          "output_type": "stream",
          "text": [
            "DecisionTreeClassifier(ccp_alpha=0.0, class_weight=None, criterion='entropy',\n",
            "                       max_depth=None, max_features=None, max_leaf_nodes=None,\n",
            "                       min_impurity_decrease=0.0, min_impurity_split=None,\n",
            "                       min_samples_leaf=1, min_samples_split=2,\n",
            "                       min_weight_fraction_leaf=0.0, presort='deprecated',\n",
            "                       random_state=0, splitter='best')\n",
            "              precision    recall  f1-score   support\n",
            "\n",
            "           0       0.99      1.00      1.00       184\n",
            "           1       0.22      0.67      0.33         3\n",
            "           3       0.73      1.00      0.84         8\n",
            "           4       1.00      0.25      0.40         4\n",
            "           5       0.88      0.89      0.89       723\n",
            "           6       0.33      0.25      0.29         4\n",
            "           7       0.00      0.00      0.00         3\n",
            "           9       1.00      0.99      1.00      8237\n",
            "          10       0.75      0.74      0.75       320\n",
            "          11       1.00      1.00      1.00     13423\n",
            "          12       0.00      0.00      0.00         1\n",
            "          13       1.00      1.00      1.00         1\n",
            "          14       0.93      0.95      0.94        42\n",
            "          15       0.94      0.95      0.94       568\n",
            "          16       0.00      0.00      0.00         2\n",
            "          17       0.96      0.96      0.96       733\n",
            "          18       0.99      1.00      1.00       533\n",
            "          19       0.00      0.00      0.00         0\n",
            "          20       0.99      0.98      0.99       190\n",
            "          21       0.98      0.95      0.96       207\n",
            "          22       1.00      0.89      0.94         9\n",
            "\n",
            "    accuracy                           0.99     25195\n",
            "   macro avg       0.70      0.69      0.68     25195\n",
            "weighted avg       0.99      0.99      0.99     25195\n",
            "\n",
            "DecisionTree_accuracy =  98.67037110537805\n"
          ],
          "name": "stdout"
        },
        {
          "output_type": "stream",
          "text": [
            "/root/anaconda3/lib/python3.7/site-packages/sklearn/metrics/_classification.py:1272: UndefinedMetricWarning: Precision and F-score are ill-defined and being set to 0.0 in labels with no predicted samples. Use `zero_division` parameter to control this behavior.\n",
            "  _warn_prf(average, modifier, msg_start, len(result))\n",
            "/root/anaconda3/lib/python3.7/site-packages/sklearn/metrics/_classification.py:1272: UndefinedMetricWarning: Recall and F-score are ill-defined and being set to 0.0 in labels with no true samples. Use `zero_division` parameter to control this behavior.\n",
            "  _warn_prf(average, modifier, msg_start, len(result))\n"
          ],
          "name": "stderr"
        }
      ]
    },
    {
      "cell_type": "code",
      "metadata": {
        "id": "CVFwEYdO0bfy",
        "outputId": "fe5e61eb-8ff9-4b31-dbd4-f41a2c361c7a"
      },
      "source": [
        "#Random forest\n",
        "R_clf = RandomForestClassifier()\n",
        "R_clf.fit(X_train,y_train)\n",
        "\n",
        "R_pred = R_clf.predict(X_test)\n",
        "accuracy = accuracy_score(R_pred,y_test)\n",
        "print(R_clf)\n",
        "print(classification_report(R_pred, y_test, labels=None))\n",
        "print(\"RandomForest_accuracy = \",accuracy*100)"
      ],
      "execution_count": null,
      "outputs": [
        {
          "output_type": "stream",
          "text": [
            "RandomForestClassifier(bootstrap=True, ccp_alpha=0.0, class_weight=None,\n",
            "                       criterion='gini', max_depth=None, max_features='auto',\n",
            "                       max_leaf_nodes=None, max_samples=None,\n",
            "                       min_impurity_decrease=0.0, min_impurity_split=None,\n",
            "                       min_samples_leaf=1, min_samples_split=2,\n",
            "                       min_weight_fraction_leaf=0.0, n_estimators=100,\n",
            "                       n_jobs=None, oob_score=False, random_state=None,\n",
            "                       verbose=0, warm_start=False)\n",
            "              precision    recall  f1-score   support\n",
            "\n",
            "           0       1.00      1.00      1.00       185\n",
            "           1       0.33      1.00      0.50         3\n",
            "           3       0.73      1.00      0.84         8\n",
            "           4       1.00      1.00      1.00         1\n",
            "           5       0.95      0.88      0.91       785\n",
            "           6       0.33      1.00      0.50         1\n",
            "           7       0.00      0.00      0.00         2\n",
            "           9       1.00      1.00      1.00      8249\n",
            "          10       0.72      0.86      0.78       260\n",
            "          11       1.00      1.00      1.00     13456\n",
            "          12       1.00      1.00      1.00         1\n",
            "          13       1.00      1.00      1.00         1\n",
            "          14       0.88      0.97      0.93        39\n",
            "          15       0.94      0.98      0.96       550\n",
            "          16       0.00      0.00      0.00         0\n",
            "          17       0.97      0.98      0.98       724\n",
            "          18       0.99      1.00      1.00       531\n",
            "          19       0.00      0.00      0.00         0\n",
            "          20       0.99      1.00      1.00       187\n",
            "          21       0.98      0.96      0.97       205\n",
            "          22       0.75      0.86      0.80         7\n",
            "\n",
            "    accuracy                           0.99     25195\n",
            "   macro avg       0.74      0.83      0.77     25195\n",
            "weighted avg       0.99      0.99      0.99     25195\n",
            "\n",
            "RandomForest_accuracy =  99.02758483826156\n"
          ],
          "name": "stdout"
        },
        {
          "output_type": "stream",
          "text": [
            "/root/anaconda3/lib/python3.7/site-packages/sklearn/metrics/_classification.py:1272: UndefinedMetricWarning: Precision and F-score are ill-defined and being set to 0.0 in labels with no predicted samples. Use `zero_division` parameter to control this behavior.\n",
            "  _warn_prf(average, modifier, msg_start, len(result))\n",
            "/root/anaconda3/lib/python3.7/site-packages/sklearn/metrics/_classification.py:1272: UndefinedMetricWarning: Recall and F-score are ill-defined and being set to 0.0 in labels with no true samples. Use `zero_division` parameter to control this behavior.\n",
            "  _warn_prf(average, modifier, msg_start, len(result))\n"
          ],
          "name": "stderr"
        }
      ]
    },
    {
      "cell_type": "code",
      "metadata": {
        "id": "hk6Bbe6G0bfy"
      },
      "source": [
        ""
      ],
      "execution_count": null,
      "outputs": []
    },
    {
      "cell_type": "code",
      "metadata": {
        "id": "SbfGEh6s0bfz"
      },
      "source": [
        ""
      ],
      "execution_count": null,
      "outputs": []
    },
    {
      "cell_type": "code",
      "metadata": {
        "id": "X__67xyy0bfz"
      },
      "source": [
        ""
      ],
      "execution_count": null,
      "outputs": []
    },
    {
      "cell_type": "code",
      "metadata": {
        "id": "l90dedll0bfz"
      },
      "source": [
        ""
      ],
      "execution_count": null,
      "outputs": []
    }
  ]
}